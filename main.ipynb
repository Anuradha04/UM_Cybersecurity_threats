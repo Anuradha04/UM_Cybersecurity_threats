{
 "cells": [
  {
   "cell_type": "code",
   "execution_count": 1,
   "id": "3c2f736d",
   "metadata": {},
   "outputs": [],
   "source": [
    "import pandas as pd\n",
    "import numpy as np\n",
    "import matplotlib.pyplot as plt\n",
    "import seaborn as sns\n",
    "import warnings\n",
    "from sklearn.model_selection import train_test_split\n",
    "from sklearn.preprocessing import LabelEncoder\n",
    "from sklearn.ensemble import IsolationForest\n",
    "from sklearn.model_selection import GridSearchCV\n",
    "from sklearn.cluster import KMeans\n",
    "from sklearn.metrics import silhouette_score\n",
    "warnings.simplefilter(\"ignore\") "
   ]
  },
  {
   "cell_type": "code",
   "execution_count": 2,
   "id": "be66ae05",
   "metadata": {},
   "outputs": [
    {
     "data": {
      "text/html": [
       "<div>\n",
       "<style scoped>\n",
       "    .dataframe tbody tr th:only-of-type {\n",
       "        vertical-align: middle;\n",
       "    }\n",
       "\n",
       "    .dataframe tbody tr th {\n",
       "        vertical-align: top;\n",
       "    }\n",
       "\n",
       "    .dataframe thead th {\n",
       "        text-align: right;\n",
       "    }\n",
       "</style>\n",
       "<table border=\"1\" class=\"dataframe\">\n",
       "  <thead>\n",
       "    <tr style=\"text-align: right;\">\n",
       "      <th></th>\n",
       "      <th>bytes_in</th>\n",
       "      <th>bytes_out</th>\n",
       "      <th>creation_time</th>\n",
       "      <th>end_time</th>\n",
       "      <th>src_ip</th>\n",
       "      <th>src_ip_country_code</th>\n",
       "      <th>protocol</th>\n",
       "      <th>response.code</th>\n",
       "      <th>dst_port</th>\n",
       "      <th>dst_ip</th>\n",
       "      <th>rule_names</th>\n",
       "      <th>observation_name</th>\n",
       "      <th>source.meta</th>\n",
       "      <th>source.name</th>\n",
       "      <th>time</th>\n",
       "      <th>detection_types</th>\n",
       "    </tr>\n",
       "  </thead>\n",
       "  <tbody>\n",
       "    <tr>\n",
       "      <th>0</th>\n",
       "      <td>5602</td>\n",
       "      <td>12990</td>\n",
       "      <td>2024-04-25T23:00:00Z</td>\n",
       "      <td>2024-04-25T23:10:00Z</td>\n",
       "      <td>147.161.161.82</td>\n",
       "      <td>AE</td>\n",
       "      <td>HTTPS</td>\n",
       "      <td>200</td>\n",
       "      <td>443</td>\n",
       "      <td>10.138.69.97</td>\n",
       "      <td>Suspicious Web Traffic</td>\n",
       "      <td>Adversary Infrastructure Interaction</td>\n",
       "      <td>AWS_VPC_Flow</td>\n",
       "      <td>prod_webserver</td>\n",
       "      <td>2024-04-25T23:00:00Z</td>\n",
       "      <td>waf_rule</td>\n",
       "    </tr>\n",
       "    <tr>\n",
       "      <th>1</th>\n",
       "      <td>30912</td>\n",
       "      <td>18186</td>\n",
       "      <td>2024-04-25T23:00:00Z</td>\n",
       "      <td>2024-04-25T23:10:00Z</td>\n",
       "      <td>165.225.33.6</td>\n",
       "      <td>US</td>\n",
       "      <td>HTTPS</td>\n",
       "      <td>200</td>\n",
       "      <td>443</td>\n",
       "      <td>10.138.69.97</td>\n",
       "      <td>Suspicious Web Traffic</td>\n",
       "      <td>Adversary Infrastructure Interaction</td>\n",
       "      <td>AWS_VPC_Flow</td>\n",
       "      <td>prod_webserver</td>\n",
       "      <td>2024-04-25T23:00:00Z</td>\n",
       "      <td>waf_rule</td>\n",
       "    </tr>\n",
       "    <tr>\n",
       "      <th>2</th>\n",
       "      <td>28506</td>\n",
       "      <td>13468</td>\n",
       "      <td>2024-04-25T23:00:00Z</td>\n",
       "      <td>2024-04-25T23:10:00Z</td>\n",
       "      <td>165.225.212.255</td>\n",
       "      <td>CA</td>\n",
       "      <td>HTTPS</td>\n",
       "      <td>200</td>\n",
       "      <td>443</td>\n",
       "      <td>10.138.69.97</td>\n",
       "      <td>Suspicious Web Traffic</td>\n",
       "      <td>Adversary Infrastructure Interaction</td>\n",
       "      <td>AWS_VPC_Flow</td>\n",
       "      <td>prod_webserver</td>\n",
       "      <td>2024-04-25T23:00:00Z</td>\n",
       "      <td>waf_rule</td>\n",
       "    </tr>\n",
       "    <tr>\n",
       "      <th>3</th>\n",
       "      <td>30546</td>\n",
       "      <td>14278</td>\n",
       "      <td>2024-04-25T23:00:00Z</td>\n",
       "      <td>2024-04-25T23:10:00Z</td>\n",
       "      <td>136.226.64.114</td>\n",
       "      <td>US</td>\n",
       "      <td>HTTPS</td>\n",
       "      <td>200</td>\n",
       "      <td>443</td>\n",
       "      <td>10.138.69.97</td>\n",
       "      <td>Suspicious Web Traffic</td>\n",
       "      <td>Adversary Infrastructure Interaction</td>\n",
       "      <td>AWS_VPC_Flow</td>\n",
       "      <td>prod_webserver</td>\n",
       "      <td>2024-04-25T23:00:00Z</td>\n",
       "      <td>waf_rule</td>\n",
       "    </tr>\n",
       "    <tr>\n",
       "      <th>4</th>\n",
       "      <td>6526</td>\n",
       "      <td>13892</td>\n",
       "      <td>2024-04-25T23:00:00Z</td>\n",
       "      <td>2024-04-25T23:10:00Z</td>\n",
       "      <td>165.225.240.79</td>\n",
       "      <td>NL</td>\n",
       "      <td>HTTPS</td>\n",
       "      <td>200</td>\n",
       "      <td>443</td>\n",
       "      <td>10.138.69.97</td>\n",
       "      <td>Suspicious Web Traffic</td>\n",
       "      <td>Adversary Infrastructure Interaction</td>\n",
       "      <td>AWS_VPC_Flow</td>\n",
       "      <td>prod_webserver</td>\n",
       "      <td>2024-04-25T23:00:00Z</td>\n",
       "      <td>waf_rule</td>\n",
       "    </tr>\n",
       "  </tbody>\n",
       "</table>\n",
       "</div>"
      ],
      "text/plain": [
       "   bytes_in  bytes_out         creation_time              end_time  \\\n",
       "0      5602      12990  2024-04-25T23:00:00Z  2024-04-25T23:10:00Z   \n",
       "1     30912      18186  2024-04-25T23:00:00Z  2024-04-25T23:10:00Z   \n",
       "2     28506      13468  2024-04-25T23:00:00Z  2024-04-25T23:10:00Z   \n",
       "3     30546      14278  2024-04-25T23:00:00Z  2024-04-25T23:10:00Z   \n",
       "4      6526      13892  2024-04-25T23:00:00Z  2024-04-25T23:10:00Z   \n",
       "\n",
       "            src_ip src_ip_country_code protocol  response.code  dst_port  \\\n",
       "0   147.161.161.82                  AE    HTTPS            200       443   \n",
       "1     165.225.33.6                  US    HTTPS            200       443   \n",
       "2  165.225.212.255                  CA    HTTPS            200       443   \n",
       "3   136.226.64.114                  US    HTTPS            200       443   \n",
       "4   165.225.240.79                  NL    HTTPS            200       443   \n",
       "\n",
       "         dst_ip              rule_names                      observation_name  \\\n",
       "0  10.138.69.97  Suspicious Web Traffic  Adversary Infrastructure Interaction   \n",
       "1  10.138.69.97  Suspicious Web Traffic  Adversary Infrastructure Interaction   \n",
       "2  10.138.69.97  Suspicious Web Traffic  Adversary Infrastructure Interaction   \n",
       "3  10.138.69.97  Suspicious Web Traffic  Adversary Infrastructure Interaction   \n",
       "4  10.138.69.97  Suspicious Web Traffic  Adversary Infrastructure Interaction   \n",
       "\n",
       "    source.meta     source.name                  time detection_types  \n",
       "0  AWS_VPC_Flow  prod_webserver  2024-04-25T23:00:00Z        waf_rule  \n",
       "1  AWS_VPC_Flow  prod_webserver  2024-04-25T23:00:00Z        waf_rule  \n",
       "2  AWS_VPC_Flow  prod_webserver  2024-04-25T23:00:00Z        waf_rule  \n",
       "3  AWS_VPC_Flow  prod_webserver  2024-04-25T23:00:00Z        waf_rule  \n",
       "4  AWS_VPC_Flow  prod_webserver  2024-04-25T23:00:00Z        waf_rule  "
      ]
     },
     "execution_count": 2,
     "metadata": {},
     "output_type": "execute_result"
    }
   ],
   "source": [
    "df = pd.read_csv(r\"C:\\03_MISC\\UM\\cybersecurity_dataset.csv\")\n",
    "df.head()"
   ]
  },
  {
   "cell_type": "code",
   "execution_count": 3,
   "id": "54fbbcbf",
   "metadata": {},
   "outputs": [
    {
     "data": {
      "text/html": [
       "<div>\n",
       "<style scoped>\n",
       "    .dataframe tbody tr th:only-of-type {\n",
       "        vertical-align: middle;\n",
       "    }\n",
       "\n",
       "    .dataframe tbody tr th {\n",
       "        vertical-align: top;\n",
       "    }\n",
       "\n",
       "    .dataframe thead th {\n",
       "        text-align: right;\n",
       "    }\n",
       "</style>\n",
       "<table border=\"1\" class=\"dataframe\">\n",
       "  <thead>\n",
       "    <tr style=\"text-align: right;\">\n",
       "      <th></th>\n",
       "      <th>bytes_in</th>\n",
       "      <th>bytes_out</th>\n",
       "      <th>creation_time</th>\n",
       "      <th>end_time</th>\n",
       "      <th>src_ip</th>\n",
       "      <th>src_ip_country_code</th>\n",
       "      <th>protocol</th>\n",
       "      <th>response.code</th>\n",
       "      <th>dst_port</th>\n",
       "      <th>dst_ip</th>\n",
       "      <th>rule_names</th>\n",
       "      <th>observation_name</th>\n",
       "      <th>source.meta</th>\n",
       "      <th>source.name</th>\n",
       "      <th>time</th>\n",
       "      <th>detection_types</th>\n",
       "    </tr>\n",
       "  </thead>\n",
       "  <tbody>\n",
       "    <tr>\n",
       "      <th>277</th>\n",
       "      <td>41336</td>\n",
       "      <td>13180</td>\n",
       "      <td>2024-04-26T09:50:00Z</td>\n",
       "      <td>2024-04-26T10:00:00Z</td>\n",
       "      <td>136.226.77.103</td>\n",
       "      <td>CA</td>\n",
       "      <td>HTTPS</td>\n",
       "      <td>200</td>\n",
       "      <td>443</td>\n",
       "      <td>10.138.69.97</td>\n",
       "      <td>Suspicious Web Traffic</td>\n",
       "      <td>Adversary Infrastructure Interaction</td>\n",
       "      <td>AWS_VPC_Flow</td>\n",
       "      <td>prod_webserver</td>\n",
       "      <td>2024-04-26T09:50:00Z</td>\n",
       "      <td>waf_rule</td>\n",
       "    </tr>\n",
       "    <tr>\n",
       "      <th>278</th>\n",
       "      <td>3638</td>\n",
       "      <td>3190</td>\n",
       "      <td>2024-04-26T09:50:00Z</td>\n",
       "      <td>2024-04-26T10:00:00Z</td>\n",
       "      <td>165.225.26.101</td>\n",
       "      <td>DE</td>\n",
       "      <td>HTTPS</td>\n",
       "      <td>200</td>\n",
       "      <td>443</td>\n",
       "      <td>10.138.69.97</td>\n",
       "      <td>Suspicious Web Traffic</td>\n",
       "      <td>Adversary Infrastructure Interaction</td>\n",
       "      <td>AWS_VPC_Flow</td>\n",
       "      <td>prod_webserver</td>\n",
       "      <td>2024-04-26T09:50:00Z</td>\n",
       "      <td>waf_rule</td>\n",
       "    </tr>\n",
       "    <tr>\n",
       "      <th>279</th>\n",
       "      <td>25207794</td>\n",
       "      <td>1561220</td>\n",
       "      <td>2024-04-26T09:50:00Z</td>\n",
       "      <td>2024-04-26T10:00:00Z</td>\n",
       "      <td>155.91.45.242</td>\n",
       "      <td>US</td>\n",
       "      <td>HTTPS</td>\n",
       "      <td>200</td>\n",
       "      <td>443</td>\n",
       "      <td>10.138.69.97</td>\n",
       "      <td>Suspicious Web Traffic</td>\n",
       "      <td>Adversary Infrastructure Interaction</td>\n",
       "      <td>AWS_VPC_Flow</td>\n",
       "      <td>prod_webserver</td>\n",
       "      <td>2024-04-26T09:50:00Z</td>\n",
       "      <td>waf_rule</td>\n",
       "    </tr>\n",
       "    <tr>\n",
       "      <th>280</th>\n",
       "      <td>5736</td>\n",
       "      <td>12114</td>\n",
       "      <td>2024-04-26T09:50:00Z</td>\n",
       "      <td>2024-04-26T10:00:00Z</td>\n",
       "      <td>165.225.209.4</td>\n",
       "      <td>CA</td>\n",
       "      <td>HTTPS</td>\n",
       "      <td>200</td>\n",
       "      <td>443</td>\n",
       "      <td>10.138.69.97</td>\n",
       "      <td>Suspicious Web Traffic</td>\n",
       "      <td>Adversary Infrastructure Interaction</td>\n",
       "      <td>AWS_VPC_Flow</td>\n",
       "      <td>prod_webserver</td>\n",
       "      <td>2024-04-26T09:50:00Z</td>\n",
       "      <td>waf_rule</td>\n",
       "    </tr>\n",
       "    <tr>\n",
       "      <th>281</th>\n",
       "      <td>9032</td>\n",
       "      <td>5862</td>\n",
       "      <td>2024-04-26T09:50:00Z</td>\n",
       "      <td>2024-04-26T10:00:00Z</td>\n",
       "      <td>147.161.131.1</td>\n",
       "      <td>AT</td>\n",
       "      <td>HTTPS</td>\n",
       "      <td>200</td>\n",
       "      <td>443</td>\n",
       "      <td>10.138.69.97</td>\n",
       "      <td>Suspicious Web Traffic</td>\n",
       "      <td>Adversary Infrastructure Interaction</td>\n",
       "      <td>AWS_VPC_Flow</td>\n",
       "      <td>prod_webserver</td>\n",
       "      <td>2024-04-26T09:50:00Z</td>\n",
       "      <td>waf_rule</td>\n",
       "    </tr>\n",
       "  </tbody>\n",
       "</table>\n",
       "</div>"
      ],
      "text/plain": [
       "     bytes_in  bytes_out         creation_time              end_time  \\\n",
       "277     41336      13180  2024-04-26T09:50:00Z  2024-04-26T10:00:00Z   \n",
       "278      3638       3190  2024-04-26T09:50:00Z  2024-04-26T10:00:00Z   \n",
       "279  25207794    1561220  2024-04-26T09:50:00Z  2024-04-26T10:00:00Z   \n",
       "280      5736      12114  2024-04-26T09:50:00Z  2024-04-26T10:00:00Z   \n",
       "281      9032       5862  2024-04-26T09:50:00Z  2024-04-26T10:00:00Z   \n",
       "\n",
       "             src_ip src_ip_country_code protocol  response.code  dst_port  \\\n",
       "277  136.226.77.103                  CA    HTTPS            200       443   \n",
       "278  165.225.26.101                  DE    HTTPS            200       443   \n",
       "279   155.91.45.242                  US    HTTPS            200       443   \n",
       "280   165.225.209.4                  CA    HTTPS            200       443   \n",
       "281   147.161.131.1                  AT    HTTPS            200       443   \n",
       "\n",
       "           dst_ip              rule_names  \\\n",
       "277  10.138.69.97  Suspicious Web Traffic   \n",
       "278  10.138.69.97  Suspicious Web Traffic   \n",
       "279  10.138.69.97  Suspicious Web Traffic   \n",
       "280  10.138.69.97  Suspicious Web Traffic   \n",
       "281  10.138.69.97  Suspicious Web Traffic   \n",
       "\n",
       "                         observation_name   source.meta     source.name  \\\n",
       "277  Adversary Infrastructure Interaction  AWS_VPC_Flow  prod_webserver   \n",
       "278  Adversary Infrastructure Interaction  AWS_VPC_Flow  prod_webserver   \n",
       "279  Adversary Infrastructure Interaction  AWS_VPC_Flow  prod_webserver   \n",
       "280  Adversary Infrastructure Interaction  AWS_VPC_Flow  prod_webserver   \n",
       "281  Adversary Infrastructure Interaction  AWS_VPC_Flow  prod_webserver   \n",
       "\n",
       "                     time detection_types  \n",
       "277  2024-04-26T09:50:00Z        waf_rule  \n",
       "278  2024-04-26T09:50:00Z        waf_rule  \n",
       "279  2024-04-26T09:50:00Z        waf_rule  \n",
       "280  2024-04-26T09:50:00Z        waf_rule  \n",
       "281  2024-04-26T09:50:00Z        waf_rule  "
      ]
     },
     "execution_count": 3,
     "metadata": {},
     "output_type": "execute_result"
    }
   ],
   "source": [
    "df.tail()"
   ]
  },
  {
   "cell_type": "markdown",
   "id": "bdb1c242",
   "metadata": {},
   "source": [
    "## Data Preprocessing and EDA"
   ]
  },
  {
   "cell_type": "code",
   "execution_count": 4,
   "id": "7cc0d890",
   "metadata": {},
   "outputs": [
    {
     "data": {
      "text/plain": [
       "Index(['bytes_in', 'bytes_out', 'creation_time', 'end_time', 'src_ip',\n",
       "       'src_ip_country_code', 'protocol', 'response.code', 'dst_port',\n",
       "       'dst_ip', 'rule_names', 'observation_name', 'source.meta',\n",
       "       'source.name', 'time', 'detection_types'],\n",
       "      dtype='object')"
      ]
     },
     "execution_count": 4,
     "metadata": {},
     "output_type": "execute_result"
    }
   ],
   "source": [
    "df.columns"
   ]
  },
  {
   "cell_type": "code",
   "execution_count": 5,
   "id": "b143fd13",
   "metadata": {},
   "outputs": [
    {
     "name": "stdout",
     "output_type": "stream",
     "text": [
      "<class 'pandas.core.frame.DataFrame'>\n",
      "RangeIndex: 282 entries, 0 to 281\n",
      "Data columns (total 16 columns):\n",
      " #   Column               Non-Null Count  Dtype \n",
      "---  ------               --------------  ----- \n",
      " 0   bytes_in             282 non-null    int64 \n",
      " 1   bytes_out            282 non-null    int64 \n",
      " 2   creation_time        282 non-null    object\n",
      " 3   end_time             282 non-null    object\n",
      " 4   src_ip               282 non-null    object\n",
      " 5   src_ip_country_code  282 non-null    object\n",
      " 6   protocol             282 non-null    object\n",
      " 7   response.code        282 non-null    int64 \n",
      " 8   dst_port             282 non-null    int64 \n",
      " 9   dst_ip               282 non-null    object\n",
      " 10  rule_names           282 non-null    object\n",
      " 11  observation_name     282 non-null    object\n",
      " 12  source.meta          282 non-null    object\n",
      " 13  source.name          282 non-null    object\n",
      " 14  time                 282 non-null    object\n",
      " 15  detection_types      282 non-null    object\n",
      "dtypes: int64(4), object(12)\n",
      "memory usage: 35.4+ KB\n"
     ]
    }
   ],
   "source": [
    "df.info()"
   ]
  },
  {
   "cell_type": "code",
   "execution_count": 6,
   "id": "c28a7611",
   "metadata": {},
   "outputs": [
    {
     "data": {
      "text/plain": [
       "bytes_in               0\n",
       "bytes_out              0\n",
       "creation_time          0\n",
       "end_time               0\n",
       "src_ip                 0\n",
       "src_ip_country_code    0\n",
       "protocol               0\n",
       "response.code          0\n",
       "dst_port               0\n",
       "dst_ip                 0\n",
       "rule_names             0\n",
       "observation_name       0\n",
       "source.meta            0\n",
       "source.name            0\n",
       "time                   0\n",
       "detection_types        0\n",
       "dtype: int64"
      ]
     },
     "execution_count": 6,
     "metadata": {},
     "output_type": "execute_result"
    }
   ],
   "source": [
    "df.isna().sum()"
   ]
  },
  {
   "cell_type": "code",
   "execution_count": 7,
   "id": "74264410",
   "metadata": {},
   "outputs": [
    {
     "data": {
      "text/html": [
       "<div>\n",
       "<style scoped>\n",
       "    .dataframe tbody tr th:only-of-type {\n",
       "        vertical-align: middle;\n",
       "    }\n",
       "\n",
       "    .dataframe tbody tr th {\n",
       "        vertical-align: top;\n",
       "    }\n",
       "\n",
       "    .dataframe thead th {\n",
       "        text-align: right;\n",
       "    }\n",
       "</style>\n",
       "<table border=\"1\" class=\"dataframe\">\n",
       "  <thead>\n",
       "    <tr style=\"text-align: right;\">\n",
       "      <th></th>\n",
       "      <th>bytes_in</th>\n",
       "      <th>bytes_out</th>\n",
       "      <th>response.code</th>\n",
       "      <th>dst_port</th>\n",
       "    </tr>\n",
       "  </thead>\n",
       "  <tbody>\n",
       "    <tr>\n",
       "      <th>count</th>\n",
       "      <td>2.820000e+02</td>\n",
       "      <td>2.820000e+02</td>\n",
       "      <td>282.0</td>\n",
       "      <td>282.0</td>\n",
       "    </tr>\n",
       "    <tr>\n",
       "      <th>mean</th>\n",
       "      <td>1.199390e+06</td>\n",
       "      <td>8.455429e+04</td>\n",
       "      <td>200.0</td>\n",
       "      <td>443.0</td>\n",
       "    </tr>\n",
       "    <tr>\n",
       "      <th>std</th>\n",
       "      <td>4.149312e+06</td>\n",
       "      <td>2.549279e+05</td>\n",
       "      <td>0.0</td>\n",
       "      <td>0.0</td>\n",
       "    </tr>\n",
       "    <tr>\n",
       "      <th>min</th>\n",
       "      <td>4.000000e+01</td>\n",
       "      <td>4.400000e+01</td>\n",
       "      <td>200.0</td>\n",
       "      <td>443.0</td>\n",
       "    </tr>\n",
       "    <tr>\n",
       "      <th>25%</th>\n",
       "      <td>5.381500e+03</td>\n",
       "      <td>1.114200e+04</td>\n",
       "      <td>200.0</td>\n",
       "      <td>443.0</td>\n",
       "    </tr>\n",
       "    <tr>\n",
       "      <th>50%</th>\n",
       "      <td>1.318200e+04</td>\n",
       "      <td>1.379950e+04</td>\n",
       "      <td>200.0</td>\n",
       "      <td>443.0</td>\n",
       "    </tr>\n",
       "    <tr>\n",
       "      <th>75%</th>\n",
       "      <td>3.083300e+04</td>\n",
       "      <td>2.627950e+04</td>\n",
       "      <td>200.0</td>\n",
       "      <td>443.0</td>\n",
       "    </tr>\n",
       "    <tr>\n",
       "      <th>max</th>\n",
       "      <td>2.520779e+07</td>\n",
       "      <td>1.561220e+06</td>\n",
       "      <td>200.0</td>\n",
       "      <td>443.0</td>\n",
       "    </tr>\n",
       "  </tbody>\n",
       "</table>\n",
       "</div>"
      ],
      "text/plain": [
       "           bytes_in     bytes_out  response.code  dst_port\n",
       "count  2.820000e+02  2.820000e+02          282.0     282.0\n",
       "mean   1.199390e+06  8.455429e+04          200.0     443.0\n",
       "std    4.149312e+06  2.549279e+05            0.0       0.0\n",
       "min    4.000000e+01  4.400000e+01          200.0     443.0\n",
       "25%    5.381500e+03  1.114200e+04          200.0     443.0\n",
       "50%    1.318200e+04  1.379950e+04          200.0     443.0\n",
       "75%    3.083300e+04  2.627950e+04          200.0     443.0\n",
       "max    2.520779e+07  1.561220e+06          200.0     443.0"
      ]
     },
     "execution_count": 7,
     "metadata": {},
     "output_type": "execute_result"
    }
   ],
   "source": [
    "df.describe()"
   ]
  },
  {
   "cell_type": "code",
   "execution_count": 8,
   "id": "fc1cab79",
   "metadata": {},
   "outputs": [
    {
     "name": "stdout",
     "output_type": "stream",
     "text": [
      "src_ip\n",
      "165.225.209.4      29\n",
      "165.225.26.101     28\n",
      "155.91.45.242      28\n",
      "136.226.67.101     28\n",
      "147.161.131.1      21\n",
      "165.225.240.79     18\n",
      "136.226.77.103     17\n",
      "147.161.161.82     16\n",
      "165.225.212.255    15\n",
      "94.188.248.74      14\n",
      "Name: count, dtype: int64\n"
     ]
    }
   ],
   "source": [
    "# top offending IPs\n",
    "top_ip =df['src_ip'].value_counts().head(10)\n",
    "print(top_ip)"
   ]
  },
  {
   "cell_type": "code",
   "execution_count": 9,
   "id": "59abca43",
   "metadata": {},
   "outputs": [
    {
     "data": {
      "text/html": [
       "<div>\n",
       "<style scoped>\n",
       "    .dataframe tbody tr th:only-of-type {\n",
       "        vertical-align: middle;\n",
       "    }\n",
       "\n",
       "    .dataframe tbody tr th {\n",
       "        vertical-align: top;\n",
       "    }\n",
       "\n",
       "    .dataframe thead th {\n",
       "        text-align: right;\n",
       "    }\n",
       "</style>\n",
       "<table border=\"1\" class=\"dataframe\">\n",
       "  <thead>\n",
       "    <tr style=\"text-align: right;\">\n",
       "      <th></th>\n",
       "      <th>bytes_in</th>\n",
       "      <th>bytes_out</th>\n",
       "    </tr>\n",
       "    <tr>\n",
       "      <th>src_ip</th>\n",
       "      <th></th>\n",
       "      <th></th>\n",
       "    </tr>\n",
       "  </thead>\n",
       "  <tbody>\n",
       "    <tr>\n",
       "      <th>155.91.45.242</th>\n",
       "      <td>314710879</td>\n",
       "      <td>19551227</td>\n",
       "    </tr>\n",
       "    <tr>\n",
       "      <th>165.225.240.79</th>\n",
       "      <td>19639612</td>\n",
       "      <td>721336</td>\n",
       "    </tr>\n",
       "    <tr>\n",
       "      <th>136.226.67.101</th>\n",
       "      <td>664597</td>\n",
       "      <td>836200</td>\n",
       "    </tr>\n",
       "    <tr>\n",
       "      <th>136.226.64.114</th>\n",
       "      <td>579830</td>\n",
       "      <td>208438</td>\n",
       "    </tr>\n",
       "    <tr>\n",
       "      <th>165.225.212.255</th>\n",
       "      <td>484106</td>\n",
       "      <td>174536</td>\n",
       "    </tr>\n",
       "    <tr>\n",
       "      <th>136.226.77.103</th>\n",
       "      <td>398090</td>\n",
       "      <td>202778</td>\n",
       "    </tr>\n",
       "    <tr>\n",
       "      <th>165.225.209.4</th>\n",
       "      <td>364564</td>\n",
       "      <td>590742</td>\n",
       "    </tr>\n",
       "    <tr>\n",
       "      <th>165.225.33.6</th>\n",
       "      <td>360062</td>\n",
       "      <td>244132</td>\n",
       "    </tr>\n",
       "    <tr>\n",
       "      <th>165.225.213.7</th>\n",
       "      <td>315880</td>\n",
       "      <td>126202</td>\n",
       "    </tr>\n",
       "    <tr>\n",
       "      <th>165.225.26.101</th>\n",
       "      <td>283040</td>\n",
       "      <td>436040</td>\n",
       "    </tr>\n",
       "  </tbody>\n",
       "</table>\n",
       "</div>"
      ],
      "text/plain": [
       "                  bytes_in  bytes_out\n",
       "src_ip                               \n",
       "155.91.45.242    314710879   19551227\n",
       "165.225.240.79    19639612     721336\n",
       "136.226.67.101      664597     836200\n",
       "136.226.64.114      579830     208438\n",
       "165.225.212.255     484106     174536\n",
       "136.226.77.103      398090     202778\n",
       "165.225.209.4       364564     590742\n",
       "165.225.33.6        360062     244132\n",
       "165.225.213.7       315880     126202\n",
       "165.225.26.101      283040     436040"
      ]
     },
     "execution_count": 9,
     "metadata": {},
     "output_type": "execute_result"
    }
   ],
   "source": [
    "# aggregate bytes exchanged\n",
    "bytes_per_ip = df.groupby('src_ip')[['bytes_in', 'bytes_out']].sum().sort_values(by='bytes_in', ascending=False)\n",
    "bytes_per_ip.head(10)"
   ]
  },
  {
   "cell_type": "code",
   "execution_count": 10,
   "id": "322d53da",
   "metadata": {},
   "outputs": [
    {
     "name": "stdout",
     "output_type": "stream",
     "text": [
      "                      bytes_in  bytes_out\n",
      "src_ip_country_code                      \n",
      "US                   316412714   21078068\n",
      "NL                    19639612     721336\n",
      "CA                     1562640    1094258\n",
      "DE                      283040     436040\n",
      "AT                      143512     234970\n",
      "AE                      124400     150066\n",
      "IL                       62116     129572\n"
     ]
    }
   ],
   "source": [
    "# bytes exchanged by country\n",
    "bytes_per_country = df.groupby('src_ip_country_code')[['bytes_in', 'bytes_out']].sum().sort_values(by='bytes_in', ascending=False)\n",
    "print(bytes_per_country.head(10))\n"
   ]
  },
  {
   "cell_type": "code",
   "execution_count": 11,
   "id": "6fcef3ca",
   "metadata": {},
   "outputs": [
    {
     "name": "stdout",
     "output_type": "stream",
     "text": [
      "       bytes_in  bytes_out\n",
      "hour                      \n",
      "0      28129112    2330646\n",
      "1      32643614    2555354\n",
      "8     112010383    7577207\n",
      "9     137216296    9051462\n",
      "23     28228629    2329641\n"
     ]
    }
   ],
   "source": [
    "# traffic volume over time\n",
    "df['creation_time'] = pd.to_datetime(df['creation_time'])\n",
    "df['hour'] = df['creation_time'].dt.hour  # Extract hour\n",
    "\n",
    "hourly_traffic = df.groupby('hour')[['bytes_in', 'bytes_out']].sum()\n",
    "print(hourly_traffic)\n"
   ]
  },
  {
   "cell_type": "code",
   "execution_count": 12,
   "id": "ce563abe",
   "metadata": {},
   "outputs": [
    {
     "data": {
      "image/png": "[encoded data removed]",
      "text/plain": [
       "<Figure size 1200x600 with 2 Axes>"
      ]
     },
     "metadata": {},
     "output_type": "display_data"
    }
   ],
   "source": [
    "# outlier detection\n",
    "fig, axes = plt.subplots(1, 2, figsize=(12, 6))\n",
    "sns.boxplot(y=df['bytes_in'], ax=axes[0])\n",
    "axes[0].set_title('Bytes In Outliers')\n",
    "sns.boxplot(y=df['bytes_out'], ax=axes[1])\n",
    "axes[1].set_title('Bytes Out Outliers')\n",
    "plt.tight_layout()\n",
    "plt.show()"
   ]
  },
  {
   "cell_type": "markdown",
   "id": "97e0e10b",
   "metadata": {},
   "source": [
    "## Model building and evaluation"
   ]
  },
  {
   "cell_type": "markdown",
   "id": "232bcb60",
   "metadata": {},
   "source": [
    "### Anaomly detection"
   ]
  },
  {
   "cell_type": "code",
   "execution_count": 13,
   "id": "96677b47",
   "metadata": {},
   "outputs": [
    {
     "name": "stdout",
     "output_type": "stream",
     "text": [
      "Best Parameters: {'contamination': 0.05, 'max_features': 1.0, 'max_samples': 0.5, 'n_estimators': 100}\n",
      "Anomaly\n",
      " 1    267\n",
      "-1     15\n",
      "Name: count, dtype: int64\n"
     ]
    }
   ],
   "source": [
    "# Select relevant numerical features\n",
    "features = ['bytes_in', 'bytes_out']\n",
    "\n",
    "# Define parameter grid for tuning\n",
    "param_grid = {\n",
    "    \"n_estimators\": [100, 200, 300],  # More trees improve stability\n",
    "    \"max_samples\": [0.5, 0.75, 1.0],  # Fraction of dataset used per tree\n",
    "    \"contamination\": [0.05, 0.1, 0.2],  # Expected proportion of anomalies\n",
    "    \"max_features\": [1.0, 0.8, 0.6]  # Percentage of features used in each tree\n",
    "}\n",
    "\n",
    "# Initialize and train the anomaly detector with GridSearchCV\n",
    "iso_forest = IsolationForest(random_state=42)\n",
    "grid_search = GridSearchCV(iso_forest, param_grid, cv=5, scoring=\"accuracy\")\n",
    "grid_search.fit(df[features])\n",
    "\n",
    "# Apply best model found\n",
    "best_model = grid_search.best_estimator_\n",
    "df['Anomaly'] = best_model.fit_predict(df[features])\n",
    "\n",
    "# Print best parameters and anomaly counts\n",
    "print(\"Best Parameters:\", grid_search.best_params_)\n",
    "print(df['Anomaly'].value_counts())\n"
   ]
  },
  {
   "cell_type": "code",
   "execution_count": 14,
   "id": "64e66340",
   "metadata": {},
   "outputs": [
    {
     "data": {
      "image/png": "[encoded data removed]",
      "text/plain": [
       "<Figure size 1200x600 with 1 Axes>"
      ]
     },
     "metadata": {},
     "output_type": "display_data"
    }
   ],
   "source": [
    "# Scatter plot for anomalies\n",
    "plt.figure(figsize=(12,6))\n",
    "sns.scatterplot(x=df['bytes_in'], y=df['bytes_out'], hue=df['Anomaly'], palette={1:'blue', -1:'red'})\n",
    "plt.title(\"Anomaly Detection: Bytes In vs. Bytes Out\")\n",
    "plt.xlabel(\"Bytes In\")\n",
    "plt.ylabel(\"Bytes Out\")\n",
    "plt.legend(title=\"Anomaly (Red = Outlier)\")\n",
    "plt.show()"
   ]
  },
  {
   "cell_type": "code",
   "execution_count": 15,
   "id": "c2e3be2a",
   "metadata": {},
   "outputs": [
    {
     "name": "stdout",
     "output_type": "stream",
     "text": [
      "            src_ip  bytes_in  bytes_out\n",
      "36   155.91.45.242   4190330     283456\n",
      "116  155.91.45.242   4827283     306181\n",
      "153  155.91.45.242   4869181     301752\n",
      "169  155.91.45.242  18201558    1170896\n",
      "176  155.91.45.242  18273120    1145109\n",
      "185  155.91.45.242  18285525    1130944\n",
      "194  155.91.45.242  18239056    1144663\n",
      "200  155.91.45.242  18125238    1121958\n",
      "211  155.91.45.242  18171403    1103358\n",
      "229  155.91.45.242  18119202    1132321\n"
     ]
    }
   ],
   "source": [
    "anomalies = df[df['Anomaly'] == -1]\n",
    "print(anomalies[['src_ip', 'bytes_in', 'bytes_out']].head(10))"
   ]
  },
  {
   "cell_type": "code",
   "execution_count": 16,
   "id": "ba021e6c",
   "metadata": {},
   "outputs": [],
   "source": [
    "model = IsolationForest(contamination=0.05, random_state=42)  # Lower contamination for fewer anomalies\n",
    "df['Anomaly'] = model.fit_predict(df[features])"
   ]
  },
  {
   "cell_type": "code",
   "execution_count": 17,
   "id": "03bd19e3",
   "metadata": {},
   "outputs": [
    {
     "name": "stdout",
     "output_type": "stream",
     "text": [
      "The anomalies are: \n",
      "             src_ip  bytes_in  bytes_out\n",
      "36    155.91.45.242   4190330     283456\n",
      "43   165.225.240.79   2015975      79990\n",
      "87   165.225.240.79   1215594      64362\n",
      "116   155.91.45.242   4827283     306181\n",
      "153   155.91.45.242   4869181     301752\n",
      "169   155.91.45.242  18201558    1170896\n",
      "176   155.91.45.242  18273120    1145109\n",
      "185   155.91.45.242  18285525    1130944\n",
      "200   155.91.45.242  18125238    1121958\n",
      "211   155.91.45.242  18171403    1103358\n",
      "229   155.91.45.242  18119202    1132321\n",
      "248   155.91.45.242  18231909    1116695\n",
      "257   155.91.45.242  24326941    1529035\n",
      "267   155.91.45.242  25199191    1557598\n",
      "279   155.91.45.242  25207794    1561220\n"
     ]
    }
   ],
   "source": [
    "print(\"The anomalies are: \")\n",
    "print(df[df['Anomaly'] == -1][['src_ip', 'bytes_in', 'bytes_out']])"
   ]
  },
  {
   "cell_type": "markdown",
   "id": "f9d7acb3",
   "metadata": {},
   "source": [
    "### Cluster analysis"
   ]
  },
  {
   "cell_type": "code",
   "execution_count": 18,
   "id": "48b9622c",
   "metadata": {},
   "outputs": [
    {
     "data": {
      "image/png": "[encoded data removed]",
      "text/plain": [
       "<Figure size 1200x600 with 1 Axes>"
      ]
     },
     "metadata": {},
     "output_type": "display_data"
    }
   ],
   "source": [
    "# ellbow curve for optimal k value\n",
    "inertia =[]\n",
    "range_k = range(1, 11)\n",
    "for k in range_k:\n",
    "    kmeans1 = KMeans(n_clusters=k, random_state=42, n_init= 'auto')\n",
    "    kmeans1.fit(df[features])\n",
    "    inertia.append(kmeans1.inertia_)\n",
    "#print(inertia)\n",
    "# graph\n",
    "plt.figure(figsize=(12,6))\n",
    "plt.plot(range_k, inertia, marker='o')\n",
    "plt.xlabel('Number of Clusters (k)')\n",
    "plt.ylabel('Inertia')\n",
    "plt.title('Elbow Method')\n",
    "plt.grid()\n",
    "plt.show()"
   ]
  },
  {
   "cell_type": "code",
   "execution_count": 19,
   "id": "a645bf47",
   "metadata": {},
   "outputs": [
    {
     "name": "stdout",
     "output_type": "stream",
     "text": [
      "Cluster\n",
      "0    254\n",
      "2     16\n",
      "1     12\n",
      "Name: count, dtype: int64\n"
     ]
    }
   ],
   "source": [
    "# Apply clustering on bytes_in and bytes_out\n",
    "kmeans = KMeans(n_clusters=3, random_state=42)\n",
    "df['Cluster'] = kmeans.fit_predict(df[features])\n",
    "\n",
    "# View cluster distribution\n",
    "print(df['Cluster'].value_counts())\n"
   ]
  },
  {
   "cell_type": "code",
   "execution_count": 20,
   "id": "7619ff26",
   "metadata": {},
   "outputs": [
    {
     "data": {
      "image/png": "[encoded data removed]",
      "text/plain": [
       "<Figure size 1200x600 with 1 Axes>"
      ]
     },
     "metadata": {},
     "output_type": "display_data"
    }
   ],
   "source": [
    "# Scatter plot of clusters\n",
    "plt.figure(figsize=(12, 6))\n",
    "sns.scatterplot(x=df['bytes_in'], y=df['bytes_out'], hue=df['Cluster'], palette=\"viridis\")\n",
    "plt.title(\"Traffic Clustering: Bytes In vs. Bytes Out\")\n",
    "plt.xlabel(\"Bytes In\")\n",
    "plt.ylabel(\"Bytes Out\")\n",
    "plt.legend(title=\"Cluster\")\n",
    "plt.show()\n"
   ]
  },
  {
   "cell_type": "code",
   "execution_count": 21,
   "id": "5667d2b8",
   "metadata": {},
   "outputs": [
    {
     "name": "stdout",
     "output_type": "stream",
     "text": [
      "        bytes_in                                                       \\\n",
      "           count          mean           std         min          25%   \n",
      "Cluster                                                                 \n",
      "0          254.0  9.258722e+04  3.666615e+05        40.0      5143.50   \n",
      "1           12.0  1.988073e+07  3.041642e+06  18119202.0  18183684.25   \n",
      "2           16.0  4.758885e+06  1.540365e+05   4190330.0   4774381.25   \n",
      "\n",
      "                                            bytes_out                \\\n",
      "                50%         75%         max     count          mean   \n",
      "Cluster                                                               \n",
      "0           10065.0     28522.5   2021960.0     254.0  1.690190e+04   \n",
      "1        18235482.5  19795879.0  25207794.0      12.0  1.238034e+06   \n",
      "2         4793743.5   4805739.0   4869181.0      16.0  2.934266e+05   \n",
      "\n",
      "                                                                      \\\n",
      "                   std        min         25%        50%         75%   \n",
      "Cluster                                                                \n",
      "0         13083.960943       44.0    10681.75    13279.0    22081.50   \n",
      "1        188582.571542  1103358.0  1128697.50  1143634.0  1260430.75   \n",
      "2          5496.027268   283456.0   290906.50   291848.0   294303.50   \n",
      "\n",
      "                    \n",
      "               max  \n",
      "Cluster             \n",
      "0          79990.0  \n",
      "1        1561220.0  \n",
      "2         306181.0  \n"
     ]
    }
   ],
   "source": [
    "print(df.groupby('Cluster')[['bytes_in', 'bytes_out']].describe())"
   ]
  },
  {
   "cell_type": "code",
   "execution_count": 22,
   "id": "064fd0ba",
   "metadata": {},
   "outputs": [
    {
     "name": "stdout",
     "output_type": "stream",
     "text": [
      "\n",
      "Top IPs in Cluster 0:\n",
      "src_ip\n",
      "165.225.209.4      29\n",
      "165.225.26.101     28\n",
      "136.226.67.101     28\n",
      "147.161.131.1      21\n",
      "165.225.240.79     18\n",
      "136.226.77.103     17\n",
      "147.161.161.82     16\n",
      "165.225.212.255    15\n",
      "94.188.248.74      14\n",
      "136.226.64.114     13\n",
      "Name: count, dtype: int64\n",
      "\n",
      "Top IPs in Cluster 1:\n",
      "src_ip\n",
      "155.91.45.242    12\n",
      "Name: count, dtype: int64\n",
      "\n",
      "Top IPs in Cluster 2:\n",
      "src_ip\n",
      "155.91.45.242    16\n",
      "Name: count, dtype: int64\n"
     ]
    }
   ],
   "source": [
    "for i in range(3):  # Assuming 3 clusters\n",
    "    print(f\"\\nTop IPs in Cluster {i}:\")\n",
    "    print(df[df['Cluster'] == i]['src_ip'].value_counts().head(10))"
   ]
  },
  {
   "cell_type": "code",
   "execution_count": 23,
   "id": "413ae410",
   "metadata": {},
   "outputs": [
    {
     "name": "stdout",
     "output_type": "stream",
     "text": [
      "Silhouette Score for K-Means: 0.95\n"
     ]
    }
   ],
   "source": [
    "score = silhouette_score(df[['bytes_in', 'bytes_out']], df['Cluster'])\n",
    "print(f\"Silhouette Score for K-Means: {score:.2f}\")"
   ]
  }
 ],
 "metadata": {
  "kernelspec": {
   "display_name": "Python 3",
   "language": "python",
   "name": "python3"
  },
  "language_info": {
   "codemirror_mode": {
    "name": "ipython",
    "version": 3
   },
   "file_extension": ".py",
   "mimetype": "text/x-python",
   "name": "python",
   "nbconvert_exporter": "python",
   "pygments_lexer": "ipython3",
   "version": "3.13.3"
  }
 },
 "nbformat": 4,
 "nbformat_minor": 5
}
